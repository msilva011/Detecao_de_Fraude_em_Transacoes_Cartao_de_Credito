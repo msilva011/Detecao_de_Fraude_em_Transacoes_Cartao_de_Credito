{
 "cells": [
  {
   "cell_type": "code",
   "execution_count": 1,
   "metadata": {},
   "outputs": [],
   "source": [
    "import numpy as np\n",
    "import pandas as pd\n",
    "from sklearn.model_selection import train_test_split\n",
    "from sklearn.metrics import accuracy_score, confusion_matrix, precision_score, recall_score, f1_score\n",
    "from tensorflow.keras.models import Model\n",
    "from tensorflow.keras.layers import Input, Dense, Conv1D, MaxPooling1D, Flatten, concatenate\n",
    "from tensorflow.keras.layers import Reshape\n"
   ]
  },
  {
   "cell_type": "code",
   "execution_count": 2,
   "metadata": {},
   "outputs": [
    {
     "name": "stdout",
     "output_type": "stream",
     "text": [
      "Número de transações fraudulentas: 284315\n"
     ]
    }
   ],
   "source": [
    "# Carregando o dataset\n",
    "data = pd.read_csv('C:/Users/mrsilva/Pessoal/Senac/creditcard_2023.csv')\n",
    "\n",
    "# Contando a quantidade de transações fraudulentas\n",
    "num_frauds = data['Class'].sum()\n",
    "print(f\"Número de transações fraudulentas: {num_frauds}\")"
   ]
  },
  {
   "cell_type": "code",
   "execution_count": 3,
   "metadata": {},
   "outputs": [],
   "source": [
    "# Separando features e target\n",
    "X = data.drop(['Class', 'id'], axis=1)\n",
    "y = data['Class']"
   ]
  },
  {
   "cell_type": "code",
   "execution_count": 4,
   "metadata": {},
   "outputs": [],
   "source": [
    "# Dividindo o conjunto de dados em treino e teste\n",
    "X_train, X_test, y_train, y_test = train_test_split(X, y, test_size=0.2, random_state=42)\n"
   ]
  },
  {
   "cell_type": "code",
   "execution_count": 5,
   "metadata": {},
   "outputs": [],
   "source": [
    "# Modelo Convolutional Neural Network (CNN)\n",
    "def build_cnn_model():\n",
    "    input_layer = Input(shape=(X_train.shape[1],))  \n",
    "    x = Reshape((X_train.shape[1], 1))(input_layer) \n",
    "    x = Conv1D(filters=64, kernel_size=3, activation='relu')(x)\n",
    "    x = MaxPooling1D(pool_size=2)(x)\n",
    "    x = Flatten()(x)\n",
    "    output = Dense(1, activation='sigmoid')(x)\n",
    "    \n",
    "    model = Model(inputs=input_layer, outputs=output)\n",
    "    model.compile(optimizer='adam', loss='binary_crossentropy', metrics=['accuracy'])\n",
    "    return model"
   ]
  },
  {
   "cell_type": "code",
   "execution_count": 6,
   "metadata": {},
   "outputs": [],
   "source": [
    "# Preparando dados para a CNN com novo input_shape\n",
    "X_train_cnn = X_train.values.reshape((X_train.shape[0], X_train.shape[1], 1))\n",
    "X_test_cnn = X_test.values.reshape((X_test.shape[0], X_test.shape[1], 1))"
   ]
  },
  {
   "cell_type": "code",
   "execution_count": 7,
   "metadata": {},
   "outputs": [
    {
     "name": "stdout",
     "output_type": "stream",
     "text": [
      "Epoch 1/5\n",
      "7108/7108 [==============================] - 35s 5ms/step - loss: 0.0775 - accuracy: 0.9732 - val_loss: 0.0551 - val_accuracy: 0.9816\n",
      "Epoch 2/5\n",
      "7108/7108 [==============================] - 23s 3ms/step - loss: 0.0470 - accuracy: 0.9834 - val_loss: 0.0414 - val_accuracy: 0.9853\n",
      "Epoch 3/5\n",
      "7108/7108 [==============================] - 38s 5ms/step - loss: 0.0382 - accuracy: 0.9860 - val_loss: 0.0361 - val_accuracy: 0.9880\n",
      "Epoch 4/5\n",
      "7108/7108 [==============================] - 33s 5ms/step - loss: 0.0334 - accuracy: 0.9883 - val_loss: 0.0321 - val_accuracy: 0.9900\n",
      "Epoch 5/5\n",
      "7108/7108 [==============================] - 30s 4ms/step - loss: 0.0298 - accuracy: 0.9898 - val_loss: 0.0282 - val_accuracy: 0.9919\n"
     ]
    },
    {
     "data": {
      "text/plain": [
       "<keras.src.callbacks.History at 0x2184568f750>"
      ]
     },
     "execution_count": 7,
     "metadata": {},
     "output_type": "execute_result"
    }
   ],
   "source": [
    "# Treinando a CNN com o novo input_shape\n",
    "cnn_model = build_cnn_model()\n",
    "cnn_model.fit(X_train_cnn, y_train, epochs=5, batch_size=64, validation_data=(X_test_cnn, y_test))\n"
   ]
  },
  {
   "cell_type": "code",
   "execution_count": 8,
   "metadata": {},
   "outputs": [
    {
     "name": "stderr",
     "output_type": "stream",
     "text": [
      "c:\\Users\\mrsilva\\AppData\\Local\\Programs\\Python\\Python311\\Lib\\site-packages\\keras\\src\\engine\\training.py:3079: UserWarning: You are saving your model as an HDF5 file via `model.save()`. This file format is considered legacy. We recommend using instead the native Keras format, e.g. `model.save('my_model.keras')`.\n",
      "  saving_api.save_model(\n"
     ]
    }
   ],
   "source": [
    "cnn_model.save('CNN_fraude_cartao.h5')"
   ]
  },
  {
   "cell_type": "code",
   "execution_count": 9,
   "metadata": {},
   "outputs": [
    {
     "name": "stdout",
     "output_type": "stream",
     "text": [
      "3554/3554 [==============================] - 5s 1ms/step\n"
     ]
    }
   ],
   "source": [
    "# Realizando previsões com a CNN\n",
    "cnn_predictions = cnn_model.predict(X_test_cnn)\n",
    "cnn_predictions = np.round(cnn_predictions)\n",
    "\n",
    "# Avaliando o desempenho da CNN com as novas previsões\n",
    "cnn_accuracy = accuracy_score(y_test, cnn_predictions)\n",
    "cnn_confusion = confusion_matrix(y_test, cnn_predictions)\n",
    "cnn_precision = precision_score(y_test, cnn_predictions)\n",
    "cnn_recall = recall_score(y_test, cnn_predictions)\n",
    "cnn_f1 = f1_score(y_test, cnn_predictions)\n"
   ]
  },
  {
   "cell_type": "code",
   "execution_count": 10,
   "metadata": {},
   "outputs": [
    {
     "name": "stdout",
     "output_type": "stream",
     "text": [
      "\n",
      "------CNN Metrics:---------\n",
      "\n",
      "Accuracy: 0.9918752088352707\n",
      "\n",
      "Confusion Matrix:\n",
      "[[56238   512]\n",
      " [  412 56564]]\n",
      "Precision: 0.9910295045202887\n",
      "\n",
      "Recall: 0.9927688851446222\n",
      "\n",
      "F1 Score: 0.9918984322940413\n"
     ]
    }
   ],
   "source": [
    "\n",
    "print(\"\\n------CNN Metrics:---------\\n\")\n",
    "print(f\"Accuracy: {cnn_accuracy}\\n\")\n",
    "print(f\"Confusion Matrix:\\n{cnn_confusion}\")\n",
    "print(f\"Precision: {cnn_precision}\\n\")\n",
    "print(f\"Recall: {cnn_recall}\\n\")\n",
    "print(f\"F1 Score: {cnn_f1}\")"
   ]
  }
 ],
 "metadata": {
  "kernelspec": {
   "display_name": "Python 3",
   "language": "python",
   "name": "python3"
  },
  "language_info": {
   "codemirror_mode": {
    "name": "ipython",
    "version": 3
   },
   "file_extension": ".py",
   "mimetype": "text/x-python",
   "name": "python",
   "nbconvert_exporter": "python",
   "pygments_lexer": "ipython3",
   "version": "3.11.5"
  }
 },
 "nbformat": 4,
 "nbformat_minor": 2
}
