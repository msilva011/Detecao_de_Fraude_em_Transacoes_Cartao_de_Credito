{
 "cells": [
  {
   "cell_type": "code",
   "execution_count": 105,
   "metadata": {},
   "outputs": [],
   "source": [
    "import numpy as np\n",
    "import pandas as pd\n",
    "from sklearn.model_selection import train_test_split\n",
    "from sklearn.metrics import accuracy_score, confusion_matrix, precision_score, recall_score, f1_score\n",
    "from tensorflow.keras.models import Model\n",
    "from tensorflow.keras.layers import Input, Dense, Conv1D, MaxPooling1D, Flatten, Reshape\n",
    "from sklearn.utils import resample"
   ]
  },
  {
   "cell_type": "code",
   "execution_count": 106,
   "metadata": {},
   "outputs": [
    {
     "name": "stdout",
     "output_type": "stream",
     "text": [
      "Número de transações fraudulentas: 284315\n"
     ]
    }
   ],
   "source": [
    "# Carregando o dataset\n",
    "data = pd.read_csv('C:/Users/mrsilva/Pessoal/Senac/creditcard_2023.csv')\n",
    "\n",
    "# Contando a quantidade de transações fraudulentas\n",
    "num_frauds = data['Class'].sum()\n",
    "print(f\"Número de transações fraudulentas: {num_frauds}\")"
   ]
  },
  {
   "cell_type": "code",
   "execution_count": 107,
   "metadata": {},
   "outputs": [],
   "source": [
    "# Separando features e target\n",
    "X = data.drop(['Class', 'id'], axis=1)\n",
    "y = data['Class']\n"
   ]
  },
  {
   "cell_type": "code",
   "execution_count": 108,
   "metadata": {},
   "outputs": [],
   "source": [
    "# Dividindo o conjunto de dados em treino, validação e teste\n",
    "X_train, X_test, y_train, y_test = train_test_split(X, y, test_size=0.2, random_state=42)\n",
    "X_train, X_val, y_train, y_val = train_test_split(X_train, y_train, test_size=0.2, random_state=42)\n"
   ]
  },
  {
   "cell_type": "code",
   "execution_count": 109,
   "metadata": {},
   "outputs": [],
   "source": [
    "# Separar as classes majoritária e minoritária\n",
    "major_class = data[data['Class'] == 0]\n",
    "minor_class = data[data['Class'] == 1]\n",
    "\n",
    "# Fazer oversampling da classe minoritária para igualar à classe majoritária\n",
    "minor_oversampled = resample(minor_class, replace=True, n_samples=len(major_class), random_state=42)\n",
    "\n",
    "# Combinar as classes reamostradas com a classe majoritária\n",
    "balanced_data = pd.concat([major_class, minor_oversampled])\n"
   ]
  },
  {
   "cell_type": "code",
   "execution_count": 110,
   "metadata": {},
   "outputs": [],
   "source": [
    "# Separando novamente os dados balanceados em features e target\n",
    "X_balanced = balanced_data.drop(['Class', 'id'], axis=1)\n",
    "y_balanced = balanced_data['Class']"
   ]
  },
  {
   "cell_type": "code",
   "execution_count": 111,
   "metadata": {},
   "outputs": [],
   "source": [
    "# Dividindo os dados balanceados em treino e teste\n",
    "X_train_balanced, X_test_balanced, y_train_balanced, y_test_balanced = train_test_split(X_balanced, y_balanced, test_size=0.2, random_state=42)\n",
    "\n",
    "# Dividindo o conjunto de treinamento balanceado em treinamento final e validação\n",
    "X_train_final, X_val, y_train_final, y_val = train_test_split(X_train_balanced, y_train_balanced, test_size=0.2, random_state=42)\n"
   ]
  },
  {
   "cell_type": "code",
   "execution_count": 112,
   "metadata": {},
   "outputs": [],
   "source": [
    "# Modelo Convolutional Neural Network (CNN)\n",
    "from tensorflow.keras.layers import Dropout\n",
    "\n",
    "def build_cnn_model_with_dropout():\n",
    "    input_layer = Input(shape=(X_train_final.shape[1],))  \n",
    "    x = Reshape((X_train_final.shape[1], 1))(input_layer) \n",
    "    x = Conv1D(filters=64, kernel_size=3, activation='relu')(x)\n",
    "    x = MaxPooling1D(pool_size=2)(x)\n",
    "    x = Dropout(0.25)(x)  # Exemplo de adição de Dropout após a camada de pooling\n",
    "    x = Flatten()(x)\n",
    "    x = Dropout(0.5)(x)  # Adicionando Dropout antes da camada densa\n",
    "    output = Dense(1, activation='sigmoid')(x)\n",
    "    \n",
    "    model = Model(inputs=input_layer, outputs=output)\n",
    "    model.compile(optimizer='adam', loss='binary_crossentropy', metrics=['accuracy'])\n",
    "    return model"
   ]
  },
  {
   "cell_type": "code",
   "execution_count": 113,
   "metadata": {},
   "outputs": [],
   "source": [
    "# Preparando dados balanceados para a CNN com novo input_shape\n",
    "X_train_final_cnn = X_train_final.values.reshape((X_train_final.shape[0], X_train_final.shape[1], 1))\n",
    "X_val_cnn = X_val.values.reshape((X_val.shape[0], X_val.shape[1], 1))\n",
    "X_test_balanced_cnn = X_test_balanced.values.reshape((X_test_balanced.shape[0], X_test_balanced.shape[1], 1))\n"
   ]
  },
  {
   "cell_type": "code",
   "execution_count": 114,
   "metadata": {},
   "outputs": [
    {
     "name": "stdout",
     "output_type": "stream",
     "text": [
      "Epoch 1/10\n",
      "5687/5687 [==============================] - 57s 10ms/step - loss: 0.1203 - accuracy: 0.9565 - val_loss: 0.0842 - val_accuracy: 0.9669\n",
      "Epoch 2/10\n",
      "5687/5687 [==============================] - 51s 9ms/step - loss: 0.0991 - accuracy: 0.9639 - val_loss: 0.0782 - val_accuracy: 0.9703\n",
      "Epoch 3/10\n",
      "5687/5687 [==============================] - 56s 10ms/step - loss: 0.0960 - accuracy: 0.9657 - val_loss: 0.0759 - val_accuracy: 0.9721\n",
      "Epoch 4/10\n",
      "5687/5687 [==============================] - 55s 10ms/step - loss: 0.0957 - accuracy: 0.9659 - val_loss: 0.0745 - val_accuracy: 0.9734\n",
      "Epoch 5/10\n",
      "5687/5687 [==============================] - 54s 10ms/step - loss: 0.0940 - accuracy: 0.9666 - val_loss: 0.0740 - val_accuracy: 0.9722\n",
      "Epoch 6/10\n",
      "5687/5687 [==============================] - 51s 9ms/step - loss: 0.0942 - accuracy: 0.9666 - val_loss: 0.0745 - val_accuracy: 0.9717\n",
      "Epoch 7/10\n",
      "5687/5687 [==============================] - 53s 9ms/step - loss: 0.0943 - accuracy: 0.9666 - val_loss: 0.0745 - val_accuracy: 0.9716\n",
      "Epoch 8/10\n",
      "5687/5687 [==============================] - 53s 9ms/step - loss: 0.0940 - accuracy: 0.9668 - val_loss: 0.0729 - val_accuracy: 0.9737\n",
      "Epoch 9/10\n",
      "5687/5687 [==============================] - 48s 8ms/step - loss: 0.0926 - accuracy: 0.9672 - val_loss: 0.0729 - val_accuracy: 0.9722\n",
      "Epoch 10/10\n",
      "5687/5687 [==============================] - 51s 9ms/step - loss: 0.0924 - accuracy: 0.9674 - val_loss: 0.0728 - val_accuracy: 0.9730\n"
     ]
    }
   ],
   "source": [
    "# Treinando o modelo com o conjunto final de treinamento e validação\n",
    "cnn_model = build_cnn_model_with_dropout()\n",
    "history = cnn_model.fit(X_train_final_cnn, y_train_final, epochs=10, batch_size=64, validation_data=(X_val_cnn, y_val))\n"
   ]
  },
  {
   "cell_type": "code",
   "execution_count": null,
   "metadata": {},
   "outputs": [],
   "source": [
    "cnn_model.save('CNN_fraude_cartao.h5')"
   ]
  },
  {
   "cell_type": "code",
   "execution_count": 115,
   "metadata": {},
   "outputs": [
    {
     "name": "stdout",
     "output_type": "stream",
     "text": [
      "2844/2844 [==============================] - 5s 2ms/step\n"
     ]
    }
   ],
   "source": [
    "# Realizando previsões com a CNN nos dados de validação\n",
    "cnn_predictions_val = cnn_model.predict(X_val_cnn)\n",
    "cnn_predictions_val = np.round(cnn_predictions_val)"
   ]
  },
  {
   "cell_type": "code",
   "execution_count": 116,
   "metadata": {},
   "outputs": [],
   "source": [
    "# Avaliando o desempenho da CNN nos dados de validação\n",
    "cnn_accuracy_val = accuracy_score(y_val, cnn_predictions_val)\n",
    "cnn_confusion_val = confusion_matrix(y_val, cnn_predictions_val)\n",
    "cnn_precision_val = precision_score(y_val, cnn_predictions_val)\n",
    "cnn_recall_val = recall_score(y_val, cnn_predictions_val)\n",
    "cnn_f1_val = f1_score(y_val, cnn_predictions_val)"
   ]
  },
  {
   "cell_type": "code",
   "execution_count": 117,
   "metadata": {},
   "outputs": [
    {
     "name": "stdout",
     "output_type": "stream",
     "text": [
      "\n",
      "------CNN Metrics on Validation Data:---------\n",
      "\n",
      "Accuracy: 0.9730383266835932\n",
      "\n",
      "Confusion Matrix:\n",
      "[[45041   626]\n",
      " [ 1827 43487]]\n",
      "Precision: 0.9858091718994401\n",
      "\n",
      "Recall: 0.9596813346868518\n",
      "\n",
      "F1 Score: 0.972569805539714\n"
     ]
    }
   ],
   "source": [
    "print(\"\\n------CNN Metrics on Validation Data:---------\\n\")\n",
    "print(f\"Accuracy: {cnn_accuracy_val}\\n\")\n",
    "print(f\"Confusion Matrix:\\n{cnn_confusion_val}\")\n",
    "print(f\"Precision: {cnn_precision_val}\\n\")\n",
    "print(f\"Recall: {cnn_recall_val}\\n\")\n",
    "print(f\"F1 Score: {cnn_f1_val}\")"
   ]
  }
 ],
 "metadata": {
  "kernelspec": {
   "display_name": "Python 3",
   "language": "python",
   "name": "python3"
  },
  "language_info": {
   "codemirror_mode": {
    "name": "ipython",
    "version": 3
   },
   "file_extension": ".py",
   "mimetype": "text/x-python",
   "name": "python",
   "nbconvert_exporter": "python",
   "pygments_lexer": "ipython3",
   "version": "3.11.5"
  }
 },
 "nbformat": 4,
 "nbformat_minor": 2
}
